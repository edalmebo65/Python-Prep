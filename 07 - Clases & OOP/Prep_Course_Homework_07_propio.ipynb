{
 "cells": [
  {
   "attachments": {},
   "cell_type": "markdown",
   "metadata": {},
   "source": [
    "Clases y OOP"
   ]
  },
  {
   "cell_type": "code",
   "execution_count": null,
   "metadata": {},
   "outputs": [],
   "source": [
    "1) Crear la clase vehículo que contenga los atributos:<br>\n",
    "Color<br>\n",
    "Si es moto, auto, camioneta ó camión<br>\n",
    "Cilindrada del motor"
   ]
  },
  {
   "cell_type": "code",
   "execution_count": 2,
   "metadata": {},
   "outputs": [],
   "source": [
    "class vehiculo:\n",
    "    def __init__(self, color, clase, cilindrada):\n",
    "        self.color = color\n",
    "        self.clase = clase\n",
    "        self.cilindrada = cilindrada"
   ]
  },
  {
   "attachments": {},
   "cell_type": "markdown",
   "metadata": {},
   "source": [
    "2) A la clase Vehiculo creada en el punto 1, agregar los siguientes métodos:<br>\n",
    "Acelerar<br>\n",
    "Frenar<br>\n",
    "Doblar<br>"
   ]
  },
  {
   "cell_type": "code",
   "execution_count": 16,
   "metadata": {},
   "outputs": [],
   "source": [
    "class vehiculo:\n",
    "    def __init__(self, color, clase, cilindrada, velocidad=0, giro=0):\n",
    "        self.color = color\n",
    "        self.clase = clase\n",
    "        self.cilindrada = cilindrada\n",
    "        self.__velocidad=velocidad\n",
    "        self.__giro=giro\n",
    "        \n",
    "    # Método Acelerar\n",
    "    def acelerar(self, acelera, t):\n",
    "        \n",
    "        if acelera > 0:\n",
    "            self.__velocidad = acelera * t + self.__velocidad\n",
    "            print('La velocidad ahora es de ' + str(self.__velocidad))\n",
    "        else:\n",
    "            print('No se produjo aceleración, la velocidad se mantiene en ' + str(self.__velocidad))\n",
    "        \n",
    "    # Método Frenar.  Se realizará la operación, siempre y cuando el vehiculo tenga velocidad mayor a cero.\n",
    "    def frenar(self, frena, t):\n",
    "        if self.__velocidad > 0:\n",
    "            self.__velocidad = frena * t + self.__velocidad\n",
    "            print('La velocidad se ha decrementado a ' + str(self.__velocidad))\n",
    "        else:\n",
    "            print('El vehiculo se encuentra en reposo')\n",
    "        \n",
    "    # Método girar.  Puedo considerar que ángulos positivos giran a la derecha y ángulos negativos giran a la izquierda.\n",
    "    def girar(self, angulo):\n",
    "        if angulo > 0:\n",
    "            self.__giro += angulo\n",
    "            print('Ha realizado un giro de ' + str(self.__giro) + ' grados a la derecha')\n",
    "        elif angulo < 0:\n",
    "            self.__giro += angulo\n",
    "            print('Ha realizado un giro de ' + str(abs(self.__giro)) + ' grados a la izquierda' )\n",
    "        else:\n",
    "            print('No se ha realizado ningún giro')"
   ]
  },
  {
   "attachments": {},
   "cell_type": "markdown",
   "metadata": {},
   "source": [
    "3) Instanciar 3 objetos de la clase vehículo y ejecutar sus métodos, probar luego el resultado"
   ]
  },
  {
   "cell_type": "code",
   "execution_count": 26,
   "metadata": {},
   "outputs": [
    {
     "name": "stdout",
     "output_type": "stream",
     "text": [
      "La velocidad ahora es de 75\n",
      "La velocidad se ha decrementado a69\n",
      "Ha realizado un giro de 30 grados a la derecha\n",
      "La velocidad ahora es de 30\n",
      "La velocidad se ha decrementado a24\n",
      "Ha realizado un giro de -45 grados a la izquierda\n",
      "No se produjo aceleración, la velocidad se mantiene en 100\n",
      "La velocidad ahora es de 130\n",
      "La velocidad se ha decrementado a115\n",
      "No se ha realizado ningún giro\n",
      "Ha realizado un giro de 70 grados a la derecha\n"
     ]
    }
   ],
   "source": [
    "Carro_1 = vehiculo('Rojo','Auto', 1400,50)\n",
    "Moto_1 = vehiculo('Negro', 'Moto', 150)\n",
    "Carro_2 = vehiculo('Gris', 'Camioneta', 2500, 100)\n",
    "\n",
    "Carro_1.acelerar(5, 5)\n",
    "Carro_1.frenar(-2, 3)\n",
    "Carro_1.girar(30)\n",
    "\n",
    "Moto_1.acelerar(10, 3)\n",
    "Moto_1.frenar(-3, 2)\n",
    "Moto_1.girar(-45)\n",
    "\n",
    "Carro_2.acelerar(0, 0)\n",
    "Carro_2.acelerar(10, 3)\n",
    "Carro_2.frenar(-3, 5)\n",
    "Carro_2.girar(0)\n",
    "Carro_2.girar(70)\n",
    "\n"
   ]
  },
  {
   "attachments": {},
   "cell_type": "markdown",
   "metadata": {},
   "source": [
    "4) Agregar a la clase Vehiculo, un método que muestre su estado, es decir, a que velocidad se encuentra y su dirección. Y otro método que muestre color, tipo y cilindrada"
   ]
  },
  {
   "cell_type": "code",
   "execution_count": 39,
   "metadata": {},
   "outputs": [],
   "source": [
    "class vehiculo:\n",
    "    def __init__(self, color, clase, cilindrada, velocidad=0, giro=0):\n",
    "        self.color = color\n",
    "        self.clase = clase\n",
    "        self.cilindrada = cilindrada\n",
    "        self.__velocidad=velocidad\n",
    "        self.__giro=giro\n",
    "        \n",
    "    # Método características\n",
    "    def caracteristicas(self):\n",
    "        print('Vehículo de color ' + self.color)\n",
    "        print('Clase ' + self.clase)\n",
    "        print('Su cilindrada es de ' + str(self.cilindrada))\n",
    "        \n",
    "    # Método estado\n",
    "    def estado(self):\n",
    "        print('La velocidad de este vehiculo es de ' + str(self.__velocidad))\n",
    "        print('Su ángulo de giro es de ' + str(self.__giro))\n",
    "        \n",
    "    # Método Acelerar\n",
    "    def acelerar(self, acelera, t):\n",
    "        \n",
    "        if acelera > 0:\n",
    "            self.__velocidad = acelera * t + self.__velocidad\n",
    "            print('La velocidad ahora es de ' + str(self.__velocidad))\n",
    "        else:\n",
    "            print('No se produjo aceleración, la velocidad se mantiene en ' + str(self.__velocidad))\n",
    "        \n",
    "    # Método Frenar.  Se realizará la operación, siempre y cuando el vehiculo tenga velocidad mayor a cero.\n",
    "    def frenar(self, frena, t):\n",
    "        if self.__velocidad > 0:\n",
    "            self.__velocidad = frena * t + self.__velocidad\n",
    "            print('La velocidad se ha decrementado a ' + str(self.__velocidad))\n",
    "        else:\n",
    "            print('El vehiculo se encuentra en reposo')\n",
    "        \n",
    "    # Método girar.  Puedo considerar que ángulos positivos giran a la derecha y ángulos negativos giran a la izquierda.\n",
    "    def girar(self, angulo):\n",
    "        if angulo > 0:\n",
    "            self.__giro += angulo\n",
    "            print('Ha realizado un giro de ' + str(self.__giro) + ' grados a la derecha')\n",
    "        elif angulo < 0:\n",
    "            self.__giro += angulo\n",
    "            print('Ha realizado un giro de ' + str(abs(self.__giro)) + ' grados a la izquierda' )\n",
    "        else:\n",
    "            print('No se ha realizado ningún giro')"
   ]
  },
  {
   "cell_type": "code",
   "execution_count": 41,
   "metadata": {},
   "outputs": [
    {
     "name": "stdout",
     "output_type": "stream",
     "text": [
      "Vehículo de color Rojo\n",
      "ClaseAuto\n",
      "Su cilindrada es de 1400\n",
      "Vehículo de color Negro\n",
      "ClaseMoto\n",
      "Su cilindrada es de 150\n",
      "Vehículo de color Gris\n",
      "ClaseCamioneta\n",
      "Su cilindrada es de 2500\n",
      "La velocidad de este vehiculo es de 50\n",
      "Su ángulo de giro es de 0\n",
      "La velocidad de este vehiculo es de 0\n",
      "Su ángulo de giro es de 0\n",
      "La velocidad de este vehiculo es de 100\n",
      "Su ángulo de giro es de 0\n"
     ]
    }
   ],
   "source": [
    "Carro_1 = vehiculo('Rojo','Auto', 1400,50)\n",
    "Moto_1 = vehiculo('Negro', 'Moto', 150)\n",
    "Carro_2 = vehiculo('Gris', 'Camioneta', 2500, 100)\n",
    "\n",
    "Carro_1.caracteristicas()\n",
    "Moto_1.caracteristicas()\n",
    "Carro_2.caracteristicas()\n",
    "\n",
    "Carro_1.estado()\n",
    "Moto_1.estado()\n",
    "Carro_2.estado()"
   ]
  },
  {
   "attachments": {},
   "cell_type": "markdown",
   "metadata": {},
   "source": [
    "5) Crear una clase que permita utilizar las funciones creadas en la práctica del módulo 6<br>\n",
    "Verificar Primo<br>\n",
    "Valor modal<br>\n",
    "Conversión grados<br>\n",
    "Factorial<br>"
   ]
  },
  {
   "cell_type": "code",
   "execution_count": 33,
   "metadata": {},
   "outputs": [],
   "source": [
    "class math_fun:\n",
    "    def __init__(self) -> None:\n",
    "        pass\n",
    "\n",
    "    def si_no_primo(self, num):\n",
    "        if num in [1, 2]:\n",
    "            return True\n",
    "        elif num < 1:\n",
    "            return False\n",
    "        else:\n",
    "            for i in range(2, num ):\n",
    "                cont = 2\n",
    "                if num % i == 0:\n",
    "                    cont += 1\n",
    "                    break\n",
    "            return cont <= 2\n",
    "        \n",
    "        \n",
    "    def lis_repetidos1(self,mayor=True, lista = None): # Mayor: True por mayor, False por menor.\n",
    "        cont=1\n",
    "        acum=0\n",
    "        num_acum=0\n",
    "        for i in range(0, len(lista)):\n",
    "            for j in range(i+1, len(lista)):\n",
    "                if lista[i] == lista[j]:\n",
    "                    num=(lista[i])\n",
    "                    cont +=1\n",
    "            if cont > 1:\n",
    "                if cont > acum:\n",
    "                    acum = cont\n",
    "                    num_acum = num\n",
    "                elif cont == acum:\n",
    "                    if mayor and num > num_acum or not mayor and num < num_acum:\n",
    "                        num_acum = num\n",
    "            cont=1\n",
    "            num=\"\"\n",
    "        return (num_acum, acum)\n",
    "\n",
    "    def conversion_grados(self,valor=0, origen=0, destino=0):\n",
    "        '''Función que convierte entre grados celsius, farenheit y kelvin.\n",
    "            se ingresa el 'valor' a ser convertido, \n",
    "            se indica el tipo de 'origen' 0=celsius, 1= farenheit y 2=kelvin\n",
    "            se indica el tipo de 'destino' 0=celsius, 1=farenheit y 2 =kelvin.\n",
    "        '''\n",
    "        if origen == 0:  # Celsius\n",
    "            if destino== 0: # Celsius\n",
    "                return(valor, \"grados Celsius\")\n",
    "            elif destino==1: # farenheit\n",
    "                valor_c=round((valor*9/5)+32, 1)\n",
    "                return(valor_c, ' grados farenheit')\n",
    "            else:   # kelvin\n",
    "                valor_c=round((valor+273.15), 1)\n",
    "                return(valor_c, ' grados kelvin')\n",
    "                \n",
    "        elif origen==1: #Farenheit\n",
    "            if destino==0:   # Celsius\n",
    "                valor_c=round((valor + 32)/(9/5), 1)\n",
    "                return(valor_c, ' grados celsius')\n",
    "            elif destino==1: # Farenheit\n",
    "                return(valor, ' grados farenheit')\n",
    "            else:   # Kelvin\n",
    "                valor_c =round((5/9)*valor - (160/9) + 273.15, 1)\n",
    "                return(valor_c, ' grados kelvin')\n",
    "        else: # kelvin\n",
    "            if destino==0:   # Celsius\n",
    "                valor_c = round(valor-273.15,1)\n",
    "                return(valor_c, ' grados celsius')\n",
    "            elif destino==1: # Farenheit\n",
    "                valor_c = round(9*(valor +(160/9) - 273.15)/5, 1)\n",
    "                return(valor_c, ' grados farenheit')\n",
    "            else:   # Kelvin   \n",
    "                return(valor, ' grados kelvin')\n",
    "\n",
    "\n",
    "    def factorial(self,nro):\n",
    "        if (type(nro)==int and nro>0):\n",
    "            if nro > 1:\n",
    "                nro = nro * self.factorial(nro-1)\n",
    "            return nro\n",
    "        else:\n",
    "            print('Solo se aceptan números enteros positivos mayores a 1')"
   ]
  },
  {
   "attachments": {},
   "cell_type": "markdown",
   "metadata": {},
   "source": [
    "6) Probar las funciones incorporadas en la clase del punto 5"
   ]
  },
  {
   "cell_type": "code",
   "execution_count": 34,
   "metadata": {},
   "outputs": [
    {
     "data": {
      "text/plain": [
       "True"
      ]
     },
     "execution_count": 34,
     "metadata": {},
     "output_type": "execute_result"
    }
   ],
   "source": [
    "m1 = math_fun()\n",
    "    \n",
    "m1.si_no_primo(17)\n",
    "    "
   ]
  },
  {
   "cell_type": "code",
   "execution_count": 21,
   "metadata": {},
   "outputs": [
    {
     "data": {
      "text/plain": [
       "(21, 3)"
      ]
     },
     "execution_count": 21,
     "metadata": {},
     "output_type": "execute_result"
    }
   ],
   "source": [
    "m1.lis_repetidos1(True,[1,5,8, 1, 1, 13, 15, 15, 21, 21, 21])"
   ]
  },
  {
   "cell_type": "code",
   "execution_count": 22,
   "metadata": {},
   "outputs": [
    {
     "data": {
      "text/plain": [
       "(266.5, ' grados kelvin')"
      ]
     },
     "execution_count": 22,
     "metadata": {},
     "output_type": "execute_result"
    }
   ],
   "source": [
    "m1.conversion_grados(20,1, 3)"
   ]
  },
  {
   "cell_type": "code",
   "execution_count": 37,
   "metadata": {},
   "outputs": [
    {
     "data": {
      "text/plain": [
       "120"
      ]
     },
     "execution_count": 37,
     "metadata": {},
     "output_type": "execute_result"
    }
   ],
   "source": [
    "m1.factorial(5)"
   ]
  },
  {
   "cell_type": "code",
   "execution_count": 38,
   "metadata": {},
   "outputs": [
    {
     "data": {
      "text/plain": [
       "3628800"
      ]
     },
     "execution_count": 38,
     "metadata": {},
     "output_type": "execute_result"
    }
   ],
   "source": [
    "m1.factorial(10)"
   ]
  },
  {
   "attachments": {},
   "cell_type": "markdown",
   "metadata": {},
   "source": [
    "7) Es necesario que la clase creada en el punto 5 contenga una lista, sobre la cual se aplquen las funciones incorporadas"
   ]
  },
  {
   "cell_type": "code",
   "execution_count": 78,
   "metadata": {},
   "outputs": [],
   "source": [
    "class math_fun:\n",
    "    def __init__(self, lista_numeros):\n",
    "        self.lista = lista_numeros\n",
    "        \n",
    "    def verifica_primo(self):\n",
    "        for e in self.lista:\n",
    "            if self.__si_no_primo(e):\n",
    "                print(\"El número \", e, \" SI es número primo\")\n",
    "            else:\n",
    "                print(\"El número \", e , \" NO es número primo\")\n",
    "\n",
    "    def __si_no_primo(self, num):\n",
    "        if num in [1, 2]:\n",
    "            return True\n",
    "        elif num < 1:\n",
    "            return False\n",
    "        else:\n",
    "            for i in range(2, num ):\n",
    "                cont = 2\n",
    "                if num % i == 0:\n",
    "                    cont += 1\n",
    "                    break\n",
    "            return cont <= 2\n",
    "        \n",
    "           \n",
    "        \n",
    "    def lis_repetidos1(self,mayor=True): # Mayor: True por mayor, False por menor.\n",
    "        cont=1\n",
    "        acum=0\n",
    "        num_acum=0\n",
    "        for i in range(0, len(self.lista)):\n",
    "            for j in range(i+1, len(self.lista)):\n",
    "                if self.lista[i] == self.lista[j]:\n",
    "                    num=(self.lista[i])\n",
    "                    cont +=1\n",
    "            if cont > 1:\n",
    "                if cont > acum:\n",
    "                    acum = cont\n",
    "                    num_acum = num\n",
    "                elif cont == acum:\n",
    "                    if mayor and num > num_acum or not mayor and num < num_acum:\n",
    "                        num_acum = num\n",
    "            cont=1\n",
    "            num=\"\"\n",
    "        print ('El Valor modal es ', num_acum, ' y se repite ', acum, ' veces')\n",
    "    \n",
    "    def convertir_grados(self, origen, destino):\n",
    "        for e in self.lista:\n",
    "            print(e, ' grados', origen, ' son ', self.__conversion_grados(e, origen, destino))\n",
    "\n",
    "    def __conversion_grados(self,valor=0, origen=0, destino=0):\n",
    "        '''Función que convierte entre grados celsius, farenheit y kelvin.\n",
    "            se ingresa el 'valor' a ser convertido, \n",
    "            se indica el tipo de 'origen' 0=celsius, 1= farenheit y 2=kelvin\n",
    "            se indica el tipo de 'destino' 0=celsius, 1=farenheit y 2 =kelvin.\n",
    "        '''\n",
    "        if origen == 'Celsius':  # Celsius\n",
    "            if destino== 'Celsius': # Celsius\n",
    "                return(valor, \"grados Celsius\")\n",
    "            elif destino=='Farenheit': # farenheit\n",
    "                valor_c=round((valor*9/5)+32, 1)\n",
    "                return(valor_c, ' grados farenheit')\n",
    "            else:   # kelvin\n",
    "                valor_c=round((valor+273.15), 1)\n",
    "                return(valor_c, ' grados kelvin')\n",
    "                \n",
    "        elif origen=='Farenheit': #Farenheit\n",
    "            if destino=='Celsius':   # Celsius\n",
    "                valor_c=round((valor + 32)/(9/5), 1)\n",
    "                return(valor_c, ' grados celsius')\n",
    "            elif destino=='Farenheit': # Farenheit\n",
    "                return(valor, ' grados farenheit')\n",
    "            else:   # Kelvin\n",
    "                valor_c =round((5/9)*valor - (160/9) + 273.15, 1)\n",
    "                return(valor_c, ' grados kelvin')\n",
    "        else: # kelvin\n",
    "            if destino=='Celsius':   # Celsius\n",
    "                valor_c = round(valor-273.15,1)\n",
    "                return(valor_c, ' grados celsius')\n",
    "            elif destino=='Farenheit': # Farenheit\n",
    "                valor_c = round(9*(valor +(160/9) - 273.15)/5, 1)\n",
    "                return(valor_c, ' grados farenheit')\n",
    "            else:   # Kelvin   \n",
    "                return(valor, ' grados kelvin')\n",
    "\n",
    "    def factorial(self):\n",
    "        for e in self.lista:\n",
    "            print(\"El factorial de \", e , ' es ', self.__factorial(e))\n",
    "\n",
    "    def __factorial(self,nro):\n",
    "        if (type(nro)==int and nro>0):\n",
    "            if nro > 1:\n",
    "                nro = nro * self.__factorial(nro-1)\n",
    "            return nro\n",
    "        else:\n",
    "            print('Solo se aceptan números enteros positivos mayores a 1')"
   ]
  },
  {
   "cell_type": "code",
   "execution_count": 79,
   "metadata": {},
   "outputs": [],
   "source": [
    "n2 = math_fun([1, 5, 3, 2, 8, 7, 5, 4, 9])\n"
   ]
  },
  {
   "cell_type": "code",
   "execution_count": 80,
   "metadata": {},
   "outputs": [
    {
     "name": "stdout",
     "output_type": "stream",
     "text": [
      "El número  1  SI es número primo\n",
      "El número  5  SI es número primo\n",
      "El número  3  SI es número primo\n",
      "El número  2  SI es número primo\n",
      "El número  8  NO es número primo\n",
      "El número  7  SI es número primo\n",
      "El número  5  SI es número primo\n",
      "El número  4  NO es número primo\n",
      "El número  9  NO es número primo\n"
     ]
    }
   ],
   "source": [
    "n2.verifica_primo()"
   ]
  },
  {
   "cell_type": "code",
   "execution_count": 44,
   "metadata": {},
   "outputs": [
    {
     "name": "stdout",
     "output_type": "stream",
     "text": [
      "El factorial de  1  es  1\n",
      "El factorial de  5  es  120\n",
      "El factorial de  3  es  6\n",
      "El factorial de  2  es  2\n",
      "El factorial de  8  es  40320\n",
      "El factorial de  7  es  5040\n",
      "El factorial de  5  es  120\n",
      "El factorial de  4  es  24\n",
      "El factorial de  9  es  362880\n"
     ]
    }
   ],
   "source": [
    "n2.factorial()"
   ]
  },
  {
   "cell_type": "code",
   "execution_count": 48,
   "metadata": {},
   "outputs": [
    {
     "name": "stdout",
     "output_type": "stream",
     "text": [
      "1  grados Celsius  son  (274.1, ' grados kelvin')\n",
      "5  grados Celsius  son  (278.1, ' grados kelvin')\n",
      "3  grados Celsius  son  (276.1, ' grados kelvin')\n",
      "2  grados Celsius  son  (275.1, ' grados kelvin')\n",
      "8  grados Celsius  son  (281.1, ' grados kelvin')\n",
      "7  grados Celsius  son  (280.1, ' grados kelvin')\n",
      "5  grados Celsius  son  (278.1, ' grados kelvin')\n",
      "4  grados Celsius  son  (277.1, ' grados kelvin')\n",
      "9  grados Celsius  son  (282.1, ' grados kelvin')\n"
     ]
    }
   ],
   "source": [
    "n2.convertir_grados('Celsius', 'Kelvin')"
   ]
  },
  {
   "cell_type": "code",
   "execution_count": 66,
   "metadata": {},
   "outputs": [
    {
     "name": "stdout",
     "output_type": "stream",
     "text": [
      "El Valor modal es  5  y se repite  2  veces\n"
     ]
    }
   ],
   "source": [
    "n2.lis_repetidos1(True)"
   ]
  },
  {
   "attachments": {},
   "cell_type": "markdown",
   "metadata": {},
   "source": [
    "8) Crear un archivo .py aparte y ubicar allí la clase generada en el punto anterior. Luego realizar la importación del módulo y probar alguna de sus funciones"
   ]
  },
  {
   "cell_type": "code",
   "execution_count": 76,
   "metadata": {},
   "outputs": [],
   "source": [
    "from math_fun import *\n",
    "\n",
    "n3 = math_fun([3, 5, 6, 5, 7, 8, 9, 10, 11, 13, 11, 17, 11])\n",
    "\n"
   ]
  },
  {
   "cell_type": "code",
   "execution_count": 68,
   "metadata": {},
   "outputs": [
    {
     "name": "stdout",
     "output_type": "stream",
     "text": [
      "3  grados Celsius  son  (37.4, ' grados farenheit')\n",
      "5  grados Celsius  son  (41.0, ' grados farenheit')\n",
      "6  grados Celsius  son  (42.8, ' grados farenheit')\n",
      "5  grados Celsius  son  (41.0, ' grados farenheit')\n",
      "7  grados Celsius  son  (44.6, ' grados farenheit')\n",
      "8  grados Celsius  son  (46.4, ' grados farenheit')\n",
      "9  grados Celsius  son  (48.2, ' grados farenheit')\n",
      "10  grados Celsius  son  (50.0, ' grados farenheit')\n",
      "11  grados Celsius  son  (51.8, ' grados farenheit')\n",
      "13  grados Celsius  son  (55.4, ' grados farenheit')\n",
      "11  grados Celsius  son  (51.8, ' grados farenheit')\n",
      "17  grados Celsius  son  (62.6, ' grados farenheit')\n",
      "11  grados Celsius  son  (51.8, ' grados farenheit')\n"
     ]
    }
   ],
   "source": [
    "n3.convertir_grados('Celsius', 'Farenheit')"
   ]
  },
  {
   "cell_type": "code",
   "execution_count": 69,
   "metadata": {},
   "outputs": [
    {
     "name": "stdout",
     "output_type": "stream",
     "text": [
      "El factorial de  3  es  6\n",
      "El factorial de  5  es  120\n",
      "El factorial de  6  es  720\n",
      "El factorial de  5  es  120\n",
      "El factorial de  7  es  5040\n",
      "El factorial de  8  es  40320\n",
      "El factorial de  9  es  362880\n",
      "El factorial de  10  es  3628800\n",
      "El factorial de  11  es  39916800\n",
      "El factorial de  13  es  6227020800\n",
      "El factorial de  11  es  39916800\n",
      "El factorial de  17  es  355687428096000\n",
      "El factorial de  11  es  39916800\n"
     ]
    }
   ],
   "source": [
    "n3.factorial()"
   ]
  },
  {
   "cell_type": "code",
   "execution_count": 70,
   "metadata": {},
   "outputs": [
    {
     "name": "stdout",
     "output_type": "stream",
     "text": [
      "El Valor modal es  11  y se repite  3  veces\n"
     ]
    }
   ],
   "source": [
    "n3.lis_repetidos1(False)"
   ]
  },
  {
   "cell_type": "code",
   "execution_count": 77,
   "metadata": {},
   "outputs": [
    {
     "ename": "NameError",
     "evalue": "name '_math_fun__si_no_primo' is not defined",
     "output_type": "error",
     "traceback": [
      "\u001b[1;31m---------------------------------------------------------------------------\u001b[0m",
      "\u001b[1;31mNameError\u001b[0m                                 Traceback (most recent call last)",
      "Cell \u001b[1;32mIn[77], line 1\u001b[0m\n\u001b[1;32m----> 1\u001b[0m n3\u001b[39m.\u001b[39;49mverifica_primo()\n",
      "File \u001b[1;32mc:\\Users\\edalm\\Desktop\\Python-Prep\\07 - Clases & OOP\\math_fun.py:7\u001b[0m, in \u001b[0;36mmath_fun.verifica_primo\u001b[1;34m(self)\u001b[0m\n\u001b[0;32m      5\u001b[0m \u001b[39mdef\u001b[39;00m \u001b[39mverifica_primo\u001b[39m(\u001b[39mself\u001b[39m):\n\u001b[0;32m      6\u001b[0m     \u001b[39mfor\u001b[39;00m e \u001b[39min\u001b[39;00m \u001b[39mself\u001b[39m\u001b[39m.\u001b[39mlista:\n\u001b[1;32m----> 7\u001b[0m         \u001b[39mif\u001b[39;00m __si_no_primo(e):\n\u001b[0;32m      8\u001b[0m             \u001b[39mprint\u001b[39m(\u001b[39m\"\u001b[39m\u001b[39mEl número \u001b[39m\u001b[39m\"\u001b[39m, e, \u001b[39m\"\u001b[39m\u001b[39m SI es número primo\u001b[39m\u001b[39m\"\u001b[39m)\n\u001b[0;32m      9\u001b[0m         \u001b[39melse\u001b[39;00m:\n",
      "\u001b[1;31mNameError\u001b[0m: name '_math_fun__si_no_primo' is not defined"
     ]
    }
   ],
   "source": [
    "n3.verifica_primo()"
   ]
  }
 ],
 "metadata": {
  "kernelspec": {
   "display_name": "Python 3",
   "language": "python",
   "name": "python3"
  },
  "language_info": {
   "codemirror_mode": {
    "name": "ipython",
    "version": 3
   },
   "file_extension": ".py",
   "mimetype": "text/x-python",
   "name": "python",
   "nbconvert_exporter": "python",
   "pygments_lexer": "ipython3",
   "version": "3.11.4"
  },
  "orig_nbformat": 4
 },
 "nbformat": 4,
 "nbformat_minor": 2
}
