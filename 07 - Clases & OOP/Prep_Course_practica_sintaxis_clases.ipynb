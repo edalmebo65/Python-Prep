{
 "cells": [
  {
   "cell_type": "code",
   "execution_count": 13,
   "metadata": {},
   "outputs": [],
   "source": [
    "class Gato:\n",
    "    def __init__(self, nombre, edad): \n",
    "        self.nombre = nombre \n",
    "        self.edad = edad\n",
    "        \n",
    "    def datos(self):\n",
    "        print(\"mi nombre es \" + self.nombre + ' y tengo ' + str(self.edad) + ' años')"
   ]
  },
  {
   "cell_type": "code",
   "execution_count": 14,
   "metadata": {},
   "outputs": [
    {
     "name": "stdout",
     "output_type": "stream",
     "text": [
      "mi nombre es rufus y tengo 2 años\n"
     ]
    }
   ],
   "source": [
    "miGato = Gato('rufus', 2)\n",
    "\n",
    "miGato.datos()"
   ]
  },
  {
   "cell_type": "code",
   "execution_count": 15,
   "metadata": {},
   "outputs": [],
   "source": [
    "class Gato:\n",
    "    def __init__(self, nombre, edad,raza, sexo):\n",
    "        self.nombre = nombre\n",
    "        self.edad = edad\n",
    "        self.raza = raza\n",
    "        self.sexo = sexo\n",
    "        \n",
    "    def datos(self):\n",
    "        print('Mi nombre es: ' +self.nombre)\n",
    "        print('Tengo ' + str(self.edad) + ' años')\n",
    "        print('Soy de la raza ' + self.raza)\n",
    "        print('Y soy un ' + self.sexo)"
   ]
  },
  {
   "cell_type": "code",
   "execution_count": 16,
   "metadata": {},
   "outputs": [
    {
     "name": "stdout",
     "output_type": "stream",
     "text": [
      "Mi nombre es: Paco\n",
      "Tengo 2 años\n",
      "Soy de la raza Siames\n",
      "Y soy un Macho\n"
     ]
    }
   ],
   "source": [
    "miGato1= Gato('Paco', 2, 'Siames', 'Macho')\n",
    "\n",
    "miGato1.datos()"
   ]
  },
  {
   "cell_type": "code",
   "execution_count": 25,
   "metadata": {},
   "outputs": [],
   "source": [
    "class Gato:\n",
    "    def __init__(self, nombre, edad,raza, sexo):\n",
    "        self.nombre = nombre\n",
    "        self.edad = edad\n",
    "        self.raza = raza\n",
    "        self.sexo = sexo\n",
    "   #Creamos el método presentar\n",
    "    def presentar(self):\n",
    "        print(\"Mi Nombre: \", self.nombre)\n",
    "        print(\"Edad: \", self.edad,\"años\")\n",
    "        print(\"Raza: \", self.raza)\n",
    "        print(\"Sexo: \", self.sexo)\n",
    "        \n",
    "    def cumpleaños(self):\n",
    "        self.edad += 1\n",
    "        print('Ahora tengo ' + str(self.edad) + ' años')"
   ]
  },
  {
   "cell_type": "code",
   "execution_count": 27,
   "metadata": {},
   "outputs": [
    {
     "name": "stdout",
     "output_type": "stream",
     "text": [
      "Mi Nombre:  Tom\n",
      "Edad:  3 años\n",
      "Raza:  Montés\n",
      "Sexo:  Macho\n",
      "Ahora tengo 4 años\n"
     ]
    }
   ],
   "source": [
    "miGato2 = Gato('Tom', 3, 'Montés', 'Macho')\n",
    "\n",
    "miGato2.presentar()\n",
    "\n",
    "miGato2.cumpleaños()\n"
   ]
  }
 ],
 "metadata": {
  "kernelspec": {
   "display_name": "Python 3",
   "language": "python",
   "name": "python3"
  },
  "language_info": {
   "codemirror_mode": {
    "name": "ipython",
    "version": 3
   },
   "file_extension": ".py",
   "mimetype": "text/x-python",
   "name": "python",
   "nbconvert_exporter": "python",
   "pygments_lexer": "ipython3",
   "version": "3.11.4"
  },
  "orig_nbformat": 4
 },
 "nbformat": 4,
 "nbformat_minor": 2
}
