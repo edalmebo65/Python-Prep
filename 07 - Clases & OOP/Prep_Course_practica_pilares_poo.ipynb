{
 "cells": [
  {
   "cell_type": "code",
   "execution_count": 3,
   "metadata": {},
   "outputs": [],
   "source": [
    "class CuentaBancaria:\n",
    "    def __init__(self, saldo):\n",
    "        self.__saldo = saldo  # el atributo saldo está encapsulado con __\n",
    "\n",
    "    def depositar(self, monto):\n",
    "        self.__saldo += monto\n",
    "\n",
    "    def retirar(self, monto):\n",
    "        if self.__saldo >= monto:\n",
    "            self.__saldo -= monto\n",
    "        else:\n",
    "            print(\"Saldo insuficiente\")\n",
    "\n",
    "    def obtener_saldo(self):\n",
    "        return self.__saldo"
   ]
  },
  {
   "cell_type": "code",
   "execution_count": 5,
   "metadata": {},
   "outputs": [],
   "source": [
    "miCuenta = CuentaBancaria( 10000)"
   ]
  },
  {
   "cell_type": "code",
   "execution_count": 6,
   "metadata": {},
   "outputs": [],
   "source": [
    "miCuenta.depositar(15000)"
   ]
  },
  {
   "cell_type": "code",
   "execution_count": 7,
   "metadata": {},
   "outputs": [
    {
     "name": "stdout",
     "output_type": "stream",
     "text": [
      "Saldo insuficiente\n"
     ]
    }
   ],
   "source": [
    "miCuenta.retirar(35000)"
   ]
  },
  {
   "cell_type": "code",
   "execution_count": 8,
   "metadata": {},
   "outputs": [
    {
     "data": {
      "text/plain": [
       "25000"
      ]
     },
     "execution_count": 8,
     "metadata": {},
     "output_type": "execute_result"
    }
   ],
   "source": [
    "miCuenta.obtener_saldo()"
   ]
  },
  {
   "cell_type": "code",
   "execution_count": 9,
   "metadata": {},
   "outputs": [
    {
     "data": {
      "text/plain": [
       "20000"
      ]
     },
     "execution_count": 9,
     "metadata": {},
     "output_type": "execute_result"
    }
   ],
   "source": [
    "miCuenta.retirar(5000)\n",
    "miCuenta.obtener_saldo()"
   ]
  },
  {
   "cell_type": "code",
   "execution_count": 11,
   "metadata": {},
   "outputs": [],
   "source": [
    "class Gato:\n",
    "    def __init__(self, nombre, edad,raza, sexo):\n",
    "        self.nombre = nombre\n",
    "        self.edad = edad\n",
    "        self.raza = raza\n",
    "        self.sexo = sexo\n",
    "   #Creamos el método presentar\n",
    "    def presentar(self):\n",
    "        print(\"Mi Nombre: \", self.nombre)\n",
    "        print(\"Edad: \", self.edad,\"años\")\n",
    "        print(\"Raza: \", self.raza)\n",
    "        print(\"Sexo: \", self.sexo)\n",
    "        \n",
    "    def cumpleaños(self):\n",
    "        self.edad += 1\n",
    "        print('Ahora tengo ' + str(self.edad) + ' años')"
   ]
  },
  {
   "cell_type": "code",
   "execution_count": 13,
   "metadata": {},
   "outputs": [
    {
     "name": "stdout",
     "output_type": "stream",
     "text": [
      "Mi Nombre:  Nina\n",
      "Edad:  3 años\n",
      "Raza:  Mezcla\n",
      "Sexo:  hembra\n"
     ]
    }
   ],
   "source": [
    "\n",
    "\n",
    "gato2= Gato(\"Nina\",3,\"Mezcla\",\"hembra\") \n",
    "\n",
    "# Utilizas método presentar\n",
    "\n",
    "gato2.presentar()"
   ]
  },
  {
   "cell_type": "code",
   "execution_count": 14,
   "metadata": {},
   "outputs": [
    {
     "name": "stdout",
     "output_type": "stream",
     "text": [
      "Ahora tengo 4 años\n"
     ]
    }
   ],
   "source": [
    "gato2.cumpleaños()"
   ]
  },
  {
   "cell_type": "code",
   "execution_count": 15,
   "metadata": {},
   "outputs": [],
   "source": [
    "class Animal:\n",
    "    def __init__(self, especie, edad, color):\n",
    "        self.especie = especie\n",
    "        self.edad = edad\n",
    "        self.color = color\n",
    "    def mePresento(self):\n",
    "        print('Hola, soy ', self.especie, ', de color', self.color, ' y tengo ', self.edad, ' años')\n",
    "    def cumplirAños(self):\n",
    "        self.edad = self.edad + 1"
   ]
  },
  {
   "cell_type": "code",
   "execution_count": 16,
   "metadata": {},
   "outputs": [
    {
     "name": "stdout",
     "output_type": "stream",
     "text": [
      "Hola, soy  Perro , de color Pardo  y tengo  5  años\n",
      "Hola, soy  Loro , de color Amarillo  y tengo  3  años\n"
     ]
    }
   ],
   "source": [
    "a1 = Animal('Perro', 5, 'Pardo')\n",
    "a2= Animal('Loro', 3, 'Amarillo')\n",
    "a1.mePresento()\n",
    "a2.mePresento()"
   ]
  },
  {
   "cell_type": "code",
   "execution_count": 17,
   "metadata": {},
   "outputs": [],
   "source": [
    "a1.cumplirAños()\n",
    "a2.cumplirAños()"
   ]
  },
  {
   "cell_type": "code",
   "execution_count": 18,
   "metadata": {},
   "outputs": [
    {
     "name": "stdout",
     "output_type": "stream",
     "text": [
      "Hola, soy  Perro , de color Pardo  y tengo  6  años\n",
      "Hola, soy  Loro , de color Amarillo  y tengo  4  años\n"
     ]
    }
   ],
   "source": [
    "a1.mePresento()\n",
    "a2.mePresento()"
   ]
  }
 ],
 "metadata": {
  "kernelspec": {
   "display_name": "Python 3",
   "language": "python",
   "name": "python3"
  },
  "language_info": {
   "codemirror_mode": {
    "name": "ipython",
    "version": 3
   },
   "file_extension": ".py",
   "mimetype": "text/x-python",
   "name": "python",
   "nbconvert_exporter": "python",
   "pygments_lexer": "ipython3",
   "version": "3.11.4"
  },
  "orig_nbformat": 4
 },
 "nbformat": 4,
 "nbformat_minor": 2
}
