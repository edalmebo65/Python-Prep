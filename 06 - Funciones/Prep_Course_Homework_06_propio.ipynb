{
 "cells": [
  {
   "attachments": {},
   "cell_type": "markdown",
   "metadata": {},
   "source": [
    "Funciones"
   ]
  },
  {
   "cell_type": "code",
   "execution_count": null,
   "metadata": {},
   "outputs": [],
   "source": [
    "1) Crear una función que reciba un número como parámetro y devuelva si True si es primo y False si no lo es"
   ]
  },
  {
   "cell_type": "code",
   "execution_count": null,
   "metadata": {},
   "outputs": [],
   "source": [
    "def si_no_primo(num):\n",
    "    if num == 1 or num == 2:\n",
    "        return True\n",
    "    elif num < 1:\n",
    "        return False\n",
    "    else:\n",
    "        for i in range(2, num ):\n",
    "            cont = 2\n",
    "            if num % i == 0:\n",
    "                cont += 1\n",
    "                break\n",
    "        if cont <= 2:\n",
    "            return True\n",
    "        else:\n",
    "            return False"
   ]
  },
  {
   "cell_type": "code",
   "execution_count": null,
   "metadata": {},
   "outputs": [],
   "source": [
    "si_no_primo(0)"
   ]
  },
  {
   "attachments": {},
   "cell_type": "markdown",
   "metadata": {},
   "source": [
    "2) Utilizando la función del punto 1, realizar otra función que reciba de parámetro una lista de números y devuelva sólo aquellos que son primos en otra lista"
   ]
  },
  {
   "cell_type": "code",
   "execution_count": null,
   "metadata": {},
   "outputs": [],
   "source": [
    "def lis_primos(lista1=[]):\n",
    "    lista2=[]\n",
    "    for e in lista1:\n",
    "        if (si_no_primo(e)):\n",
    "            lista2.append(e)\n",
    "    return lista2\n",
    "            \n",
    "    "
   ]
  },
  {
   "cell_type": "code",
   "execution_count": null,
   "metadata": {},
   "outputs": [],
   "source": [
    "lista=[5, 11, 13, 15, 19, 21, 23, 29, 31]\n",
    "print(lis_primos())\n",
    "for e in lis_primos(lista):\n",
    "    print(e)\n",
    "    "
   ]
  },
  {
   "attachments": {},
   "cell_type": "markdown",
   "metadata": {},
   "source": [
    "3) Crear una función que al recibir una lista de números, devuelva el que más se repite y cuántas veces lo hace. Si hay más de un \"más repetido\", que devuelva cualquiera"
   ]
  },
  {
   "cell_type": "code",
   "execution_count": 9,
   "metadata": {},
   "outputs": [],
   "source": [
    "def lis_repetidos(lista = []):\n",
    "    cont=1\n",
    "    acum=0\n",
    "    num_acum=0\n",
    "    for i in range(0, len(lista)):\n",
    "        for j in range(i+1, len(lista)):\n",
    "            if lista[i] == lista[j]:\n",
    "                num=(lista[i])\n",
    "                cont +=1\n",
    "        if cont > 1:\n",
    "            if cont > acum:\n",
    "                acum = cont\n",
    "                num_acum = num\n",
    "        cont=1\n",
    "        num=\"\"\n",
    "    return (num_acum, acum)"
   ]
  },
  {
   "cell_type": "code",
   "execution_count": 13,
   "metadata": {},
   "outputs": [
    {
     "data": {
      "text/plain": [
       "(5, 4)"
      ]
     },
     "execution_count": 13,
     "metadata": {},
     "output_type": "execute_result"
    }
   ],
   "source": [
    "lis_repetidos([2, 1, 3, 2, 5, 3, 5, 2, 5, 1, 5])"
   ]
  },
  {
   "cell_type": "code",
   "execution_count": 14,
   "metadata": {},
   "outputs": [
    {
     "data": {
      "text/plain": [
       "(1, 4)"
      ]
     },
     "execution_count": 14,
     "metadata": {},
     "output_type": "execute_result"
    }
   ],
   "source": [
    "lis_repetidos([2, 1, 3, 2, 3, 2, 1, 1, 1])"
   ]
  },
  {
   "attachments": {},
   "cell_type": "markdown",
   "metadata": {},
   "source": [
    "4) A la función del punto 3, agregar un parámetro más, que permita elegir si se requiere el menor o el mayor de los mas repetidos."
   ]
  },
  {
   "cell_type": "code",
   "execution_count": 16,
   "metadata": {},
   "outputs": [],
   "source": [
    "def lis_repetidos1(mayor, lista = []): # Mayor: True por mayor, False por menor.\n",
    "    cont=1\n",
    "    acum=0\n",
    "    num_acum=0\n",
    "    for i in range(0, len(lista)):\n",
    "        for j in range(i+1, len(lista)):\n",
    "            if lista[i] == lista[j]:\n",
    "                num=(lista[i])\n",
    "                cont +=1\n",
    "        if cont > 1:\n",
    "            if cont > acum:\n",
    "                acum = cont\n",
    "                num_acum = num\n",
    "            elif cont == acum:\n",
    "                if mayor:\n",
    "                    if num > num_acum:\n",
    "                        num_acum = num\n",
    "                else:\n",
    "                    if num < num_acum:\n",
    "                        num_acum = num\n",
    "        cont=1\n",
    "        num=\"\"\n",
    "    return (num_acum, acum)"
   ]
  },
  {
   "cell_type": "code",
   "execution_count": 19,
   "metadata": {},
   "outputs": [
    {
     "data": {
      "text/plain": [
       "(1, 4)"
      ]
     },
     "execution_count": 19,
     "metadata": {},
     "output_type": "execute_result"
    }
   ],
   "source": [
    "lis_repetidos1(False, [2, 1, 3, 2, 3, 2, 1, 1, 1, 2])"
   ]
  },
  {
   "cell_type": "code",
   "execution_count": 22,
   "metadata": {},
   "outputs": [
    {
     "data": {
      "text/plain": [
       "(5, 3)"
      ]
     },
     "execution_count": 22,
     "metadata": {},
     "output_type": "execute_result"
    }
   ],
   "source": [
    "lis_repetidos1(True, [5,5,5, 3,3,3])"
   ]
  },
  {
   "attachments": {},
   "cell_type": "markdown",
   "metadata": {},
   "source": [
    "5) Crear una función que convierta entre grados Celsius, Farenheit y Kelvin<br>\n",
    "Fórmula 1\t: (°C × 9/5) + 32 = °F<br>\n",
    "Fórmula 2\t: °C + 273.15 = °K<br>\n",
    "Debe recibir 3 parámetros: el valor, la medida de orígen y la medida de destino"
   ]
  },
  {
   "cell_type": "code",
   "execution_count": 38,
   "metadata": {},
   "outputs": [],
   "source": [
    "def conversion_grados(valor=0, origen=0, destino=0):\n",
    "    '''Función que convierte entre grados celsius, farenheit y kelvin.\n",
    "        se ingresa el 'valor' a ser convertido, \n",
    "        se indica el tipo de 'origen' 0=celsius, 1= farenheit y 2=kelvin\n",
    "        se indica el tipo de 'destino' 0=celsius, 1=farenheit y 2 =kelvin.\n",
    "    '''\n",
    "    if origen == 0:  # Celsius\n",
    "        if destino== 0: # Celsius\n",
    "            return(valor, \"grados Celsius\")\n",
    "        elif destino==1: # farenheit\n",
    "            valor_c=round((valor*9/5)+32, 1)\n",
    "            return(valor_c, ' grados farenheit')\n",
    "        else:   # kelvin\n",
    "            valor_c=round((valor+273.15), 1)\n",
    "            return(valor_c, ' grados kelvin')\n",
    "            \n",
    "    elif origen==1: #Farenheit\n",
    "        if destino==0:   # Celsius\n",
    "            valor_c=round((valor + 32)/(9/5), 1)\n",
    "            return(valor_c, ' grados celsius')\n",
    "        elif destino==1: # Farenheit\n",
    "            return(valor, ' grados farenheit')\n",
    "        else:   # Kelvin\n",
    "            valor_c =round((5/9)*valor - (160/9) + 273.15, 1)\n",
    "            return(valor_c, ' grados kelvin')\n",
    "    else: # kelvin\n",
    "        if destino==0:   # Celsius\n",
    "            valor_c = round(valor-273.15,1)\n",
    "            return(valor_c, ' grados celsius')\n",
    "        elif destino==1: # Farenheit\n",
    "            valor_c = round(9*(valor +(160/9) - 273.15)/5, 1)\n",
    "            return(valor_c, ' grados farenheit')\n",
    "        else:   # Kelvin   \n",
    "            return(valor, ' grados kelvin')\n"
   ]
  },
  {
   "cell_type": "code",
   "execution_count": 48,
   "metadata": {},
   "outputs": [
    {
     "name": "stdout",
     "output_type": "stream",
     "text": [
      "Help on function conversion_grados in module __main__:\n",
      "\n",
      "conversion_grados(valor=0, origen=0, destino=0)\n",
      "    Función que convierte entre grados celsius, farenheit y kelvin.\n",
      "    se ingresa el 'valor' a ser convertido, \n",
      "    se indica el tipo de 'origen' 0=celsius, 1= farenheit y 2=kelvin\n",
      "    se indica el tipo de 'destino' 0=celsius, 1=farenheit y 2 =kelvin.\n",
      "\n"
     ]
    },
    {
     "data": {
      "text/plain": [
       "(472.0, ' grados kelvin')"
      ]
     },
     "execution_count": 48,
     "metadata": {},
     "output_type": "execute_result"
    }
   ],
   "source": [
    "help(conversion_grados)\n",
    "conversion_grados(390, 1, 2)"
   ]
  },
  {
   "attachments": {},
   "cell_type": "markdown",
   "metadata": {},
   "source": [
    "6) Iterando una lista con los tres valores posibles de temperatura que recibe la función del punto 5, hacer un print para cada combinación de los mismos:"
   ]
  },
  {
   "cell_type": "code",
   "execution_count": 69,
   "metadata": {},
   "outputs": [
    {
     "name": "stdout",
     "output_type": "stream",
     "text": [
      "15 grados Celsius equivale a (15, 'grados Celsius')\n",
      "15 grados Celsius equivale a (59.0, ' grados farenheit')\n",
      "15 grados Celsius equivale a (288.1, ' grados kelvin')\n",
      "15 grados Farenheit equivale a (26.1, ' grados celsius')\n",
      "15 grados Farenheit equivale a (15, ' grados farenheit')\n",
      "15 grados Farenheit equivale a (263.7, ' grados kelvin')\n",
      "15 grados Kelvin equivale a (-258.1, ' grados celsius')\n",
      "15 grados Kelvin equivale a (-432.7, ' grados farenheit')\n",
      "15 grados Kelvin equivale a (15, ' grados kelvin')\n",
      "21 grados Celsius equivale a (21, 'grados Celsius')\n",
      "21 grados Celsius equivale a (69.8, ' grados farenheit')\n",
      "21 grados Celsius equivale a (294.1, ' grados kelvin')\n",
      "21 grados Farenheit equivale a (29.4, ' grados celsius')\n",
      "21 grados Farenheit equivale a (21, ' grados farenheit')\n",
      "21 grados Farenheit equivale a (267.0, ' grados kelvin')\n",
      "21 grados Kelvin equivale a (-252.1, ' grados celsius')\n",
      "21 grados Kelvin equivale a (-421.9, ' grados farenheit')\n",
      "21 grados Kelvin equivale a (21, ' grados kelvin')\n",
      "390 grados Celsius equivale a (390, 'grados Celsius')\n",
      "390 grados Celsius equivale a (734.0, ' grados farenheit')\n",
      "390 grados Celsius equivale a (663.1, ' grados kelvin')\n",
      "390 grados Farenheit equivale a (234.4, ' grados celsius')\n",
      "390 grados Farenheit equivale a (390, ' grados farenheit')\n",
      "390 grados Farenheit equivale a (472.0, ' grados kelvin')\n",
      "390 grados Kelvin equivale a (116.9, ' grados celsius')\n",
      "390 grados Kelvin equivale a (242.3, ' grados farenheit')\n",
      "390 grados Kelvin equivale a (390, ' grados kelvin')\n",
      "440 grados Celsius equivale a (440, 'grados Celsius')\n",
      "440 grados Celsius equivale a (824.0, ' grados farenheit')\n",
      "440 grados Celsius equivale a (713.1, ' grados kelvin')\n",
      "440 grados Farenheit equivale a (262.2, ' grados celsius')\n",
      "440 grados Farenheit equivale a (440, ' grados farenheit')\n",
      "440 grados Farenheit equivale a (499.8, ' grados kelvin')\n",
      "440 grados Kelvin equivale a (166.9, ' grados celsius')\n",
      "440 grados Kelvin equivale a (332.3, ' grados farenheit')\n",
      "440 grados Kelvin equivale a (440, ' grados kelvin')\n"
     ]
    }
   ],
   "source": [
    "lis_temperaturas=[15, 21, 390, 440]\n",
    "t_grados=['Celsius', 'Farenheit', 'Kelvin']\n",
    "for e in lis_temperaturas:\n",
    "    origen=0\n",
    "    while origen <3:\n",
    "        destino=0 \n",
    "        while destino < 3:\n",
    "            grados = str(t_grados[origen])\n",
    "            dato = str(conversion_grados(e, origen, destino))\n",
    "            print(str(e) + ' grados ' + grados + ' equivale a ' + dato)\n",
    "            destino += 1\n",
    "        origen += 1\n",
    "    "
   ]
  },
  {
   "attachments": {},
   "cell_type": "markdown",
   "metadata": {},
   "source": [
    "7) Armar una función que devuelva el factorial de un número. Tener en cuenta que el usuario puede equivocarse y enviar de parámetro un número no entero o negativo"
   ]
  },
  {
   "cell_type": "code",
   "execution_count": 90,
   "metadata": {},
   "outputs": [],
   "source": [
    "def factorial(numero):\n",
    "    if (type(numero)==int and numero>0):\n",
    "        if numero > 1:\n",
    "            numero = numero * factorial(numero-1)\n",
    "        return numero\n",
    "    else:\n",
    "        print('Solo se aceptan números enteros positivos mayores a 1')"
   ]
  },
  {
   "cell_type": "code",
   "execution_count": 98,
   "metadata": {},
   "outputs": [
    {
     "data": {
      "text/plain": [
       "120"
      ]
     },
     "execution_count": 98,
     "metadata": {},
     "output_type": "execute_result"
    }
   ],
   "source": [
    "factorial(5)"
   ]
  }
 ],
 "metadata": {
  "kernelspec": {
   "display_name": "Python 3",
   "language": "python",
   "name": "python3"
  },
  "language_info": {
   "codemirror_mode": {
    "name": "ipython",
    "version": 3
   },
   "file_extension": ".py",
   "mimetype": "text/x-python",
   "name": "python",
   "nbconvert_exporter": "python",
   "pygments_lexer": "ipython3",
   "version": "3.11.4"
  },
  "orig_nbformat": 4
 },
 "nbformat": 4,
 "nbformat_minor": 2
}
