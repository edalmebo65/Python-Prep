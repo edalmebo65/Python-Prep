{
 "cells": [
  {
   "attachments": {},
   "cell_type": "markdown",
   "metadata": {},
   "source": [
    "Iteradores e Iterables"
   ]
  },
  {
   "cell_type": "code",
   "execution_count": null,
   "metadata": {},
   "outputs": [],
   "source": [
    "1) A partir de una lista vacía, utilizar un ciclo while para cargar allí números negativos del -15 al -1"
   ]
  },
  {
   "cell_type": "code",
   "execution_count": 4,
   "metadata": {},
   "outputs": [
    {
     "name": "stdout",
     "output_type": "stream",
     "text": [
      "<class 'list'>\n",
      "[-15, -14, -13, -12, -11, -10, -9, -8, -7, -6, -5, -4, -3, -2, -1]\n"
     ]
    }
   ],
   "source": [
    "lista_num=[]\n",
    "print(type(lista_num))\n",
    "num = -15\n",
    "while (num >= -15 and num <= -1):\n",
    "    lista_num.append(num)\n",
    "    num += 1\n",
    "print(lista_num)"
   ]
  },
  {
   "attachments": {},
   "cell_type": "markdown",
   "metadata": {},
   "source": [
    "2) ¿Con un ciclo while sería posible recorrer la lista para imprimir sólo los números pares?"
   ]
  },
  {
   "cell_type": "code",
   "execution_count": 9,
   "metadata": {},
   "outputs": [
    {
     "name": "stdout",
     "output_type": "stream",
     "text": [
      "-14\n",
      "-12\n",
      "-10\n",
      "-8\n",
      "-6\n",
      "-4\n",
      "-2\n"
     ]
    }
   ],
   "source": [
    "i=0\n",
    "while i <= len(lista_num) - 1:\n",
    "    if lista_num[i] % 2 == 0:\n",
    "        print(lista_num[i])\n",
    "    i += 1       "
   ]
  },
  {
   "attachments": {},
   "cell_type": "markdown",
   "metadata": {},
   "source": [
    "3) Resolver el punto anterior sin utilizar un ciclo while"
   ]
  },
  {
   "cell_type": "code",
   "execution_count": 10,
   "metadata": {},
   "outputs": [
    {
     "name": "stdout",
     "output_type": "stream",
     "text": [
      "-14\n",
      "-12\n",
      "-10\n",
      "-8\n",
      "-6\n",
      "-4\n",
      "-2\n"
     ]
    }
   ],
   "source": [
    "for i in lista_num:\n",
    "    if lista_num[i] % 2 == 0:\n",
    "        print(lista_num[i])"
   ]
  },
  {
   "attachments": {},
   "cell_type": "markdown",
   "metadata": {},
   "source": [
    "4) Utilizar el iterable para recorrer sólo los primeros 3 elementos"
   ]
  },
  {
   "cell_type": "code",
   "execution_count": 13,
   "metadata": {},
   "outputs": [
    {
     "name": "stdout",
     "output_type": "stream",
     "text": [
      "-15\n",
      "-14\n",
      "-13\n"
     ]
    }
   ],
   "source": [
    "for i in range(0, 3):\n",
    "    print(lista_num[i])"
   ]
  },
  {
   "attachments": {},
   "cell_type": "markdown",
   "metadata": {},
   "source": [
    "5) Utilizar la función **enumerate** para obtener dentro del iterable, tambien el índice al que corresponde el elemento"
   ]
  },
  {
   "cell_type": "code",
   "execution_count": 14,
   "metadata": {},
   "outputs": [
    {
     "name": "stdout",
     "output_type": "stream",
     "text": [
      "(0, -15)\n",
      "(1, -14)\n",
      "(2, -13)\n",
      "(3, -12)\n",
      "(4, -11)\n",
      "(5, -10)\n",
      "(6, -9)\n",
      "(7, -8)\n",
      "(8, -7)\n",
      "(9, -6)\n",
      "(10, -5)\n",
      "(11, -4)\n",
      "(12, -3)\n",
      "(13, -2)\n",
      "(14, -1)\n"
     ]
    }
   ],
   "source": [
    "for i in enumerate(lista_num):\n",
    "    print(i)\n"
   ]
  },
  {
   "attachments": {},
   "cell_type": "markdown",
   "metadata": {},
   "source": [
    "6) Dada la siguiente lista de números enteros entre 1 y 20, crear un ciclo donde se completen los valores faltantes: lista = [1,2,5,7,8,10,13,14,15,17,20]"
   ]
  },
  {
   "cell_type": "code",
   "execution_count": 22,
   "metadata": {},
   "outputs": [
    {
     "name": "stdout",
     "output_type": "stream",
     "text": [
      "[1, 2, 3, 4, 5, 6, 7, 8, 9, 10, 11, 12, 13, 14, 15, 16, 17, 18, 19, 20]\n",
      "1\n",
      "2\n",
      "3\n",
      "4\n",
      "5\n",
      "6\n",
      "7\n",
      "8\n",
      "9\n",
      "10\n",
      "11\n",
      "12\n",
      "13\n",
      "14\n",
      "15\n",
      "16\n",
      "17\n",
      "18\n",
      "19\n",
      "20\n"
     ]
    }
   ],
   "source": [
    "i=0\n",
    "num=1\n",
    "lista = [1,2,5,7,8,10,13,14,15,17,20]\n",
    "while num <= 20:\n",
    "    if lista[i] != num:\n",
    "        lista.insert(i, num)\n",
    "    i += 1\n",
    "    num += 1\n",
    "print(lista)\n",
    "for e in lista:\n",
    "    print(e)"
   ]
  },
  {
   "attachments": {},
   "cell_type": "markdown",
   "metadata": {},
   "source": [
    "7) La sucesión de Fibonacci es un listado de números que sigue la fórmula: <br>\n",
    "n<sub>0</sub> = 0<br>\n",
    "n<sub>1</sub> = 1<br>\n",
    "n<sub>i</sub> = n<sub>i-1</sub> + n<sub>i-2</sub><br>\n",
    "Crear una lista con los primeros treinta números de la sucesión.<br>"
   ]
  },
  {
   "cell_type": "code",
   "execution_count": 2,
   "metadata": {},
   "outputs": [
    {
     "name": "stdout",
     "output_type": "stream",
     "text": [
      "[0, 1, 1, 2, 3, 5, 8, 13, 21, 34, 55, 89, 144, 233, 377, 610, 987, 1597, 2584, 4181, 6765, 10946, 17711, 28657, 46368, 75025, 121393, 196418, 317811, 514229]\n",
      "0\n",
      "1\n",
      "1\n",
      "2\n",
      "3\n",
      "5\n",
      "8\n",
      "13\n",
      "21\n",
      "34\n",
      "55\n",
      "89\n",
      "144\n",
      "233\n",
      "377\n",
      "610\n",
      "987\n",
      "1597\n",
      "2584\n",
      "4181\n",
      "6765\n",
      "10946\n",
      "17711\n",
      "28657\n",
      "46368\n",
      "75025\n",
      "121393\n",
      "196418\n",
      "317811\n",
      "514229\n"
     ]
    }
   ],
   "source": [
    "fibo = [0, 1]\n",
    "n= 2\n",
    "while n < 30:\n",
    "    fibo.append(fibo[n-1]+fibo[n-2])\n",
    "    n += 1\n",
    "print(fibo)\n",
    "for e in fibo:\n",
    "    print(e)"
   ]
  },
  {
   "attachments": {},
   "cell_type": "markdown",
   "metadata": {},
   "source": [
    "8) Realizar la suma de todos elementos de la lista del punto anterior"
   ]
  },
  {
   "cell_type": "code",
   "execution_count": 26,
   "metadata": {},
   "outputs": [
    {
     "name": "stdout",
     "output_type": "stream",
     "text": [
      "1346268\n"
     ]
    }
   ],
   "source": [
    "print(sum(fibo))"
   ]
  },
  {
   "attachments": {},
   "cell_type": "markdown",
   "metadata": {},
   "source": [
    "9) La proporción aurea se expresa con una proporción matemática que nace el número irracional Phi= 1,618… que los griegos llamaron número áureo. El cuál se puede aproximar con la sucesión de Fibonacci. Con la lista del ejercicio anterior, imprimir el cociente de los últimos 5 pares de dos números contiguos:<br>\n",
    "Donde i es la cantidad total de elementos<br>\n",
    "n<sub>i-1</sub> / n<sub>i</sub><br>\n",
    "n<sub>i-2</sub> / n<sub>i-1</sub><br>\n",
    "n<sub>i-3</sub> / n<sub>i-2</sub><br>\n",
    "n<sub>i-4</sub> / n<sub>i-3</sub><br>\n",
    "n<sub>i-5</sub> / n<sub>i-4</sub><br>\n"
   ]
  },
  {
   "cell_type": "code",
   "execution_count": 4,
   "metadata": {},
   "outputs": [
    {
     "name": "stdout",
     "output_type": "stream",
     "text": [
      "1.618033988957902\n",
      "1.618033988957902\n",
      "1.618033988957902\n",
      "1.618033988957902\n",
      "1.618033988957902\n"
     ]
    }
   ],
   "source": [
    "m = len(fibo)-1  # cargo el índice del último elemento de la serie fibounacci\n",
    "n = 5             # este variable determina el número de operaciones a realizar, en este caso 5.\n",
    "i= 0\n",
    "while i < n:\n",
    "    print(fibo[m-n+1]/fibo[m-n])\n",
    "    i += 1"
   ]
  },
  {
   "attachments": {},
   "cell_type": "markdown",
   "metadata": {},
   "source": [
    "10) A partir de la variable cadena ya dada, mostrar en qué posiciones aparece la letra \"n\"<br>\n",
    "cadena = 'Hola Mundo. Esto es una practica del lenguaje de programación Python'"
   ]
  },
  {
   "cell_type": "code",
   "execution_count": 1,
   "metadata": {},
   "outputs": [
    {
     "name": "stdout",
     "output_type": "stream",
     "text": [
      "7\n"
     ]
    }
   ],
   "source": [
    "cadena = 'Hola MUndo'\n",
    "print(cadena.index('n'))"
   ]
  },
  {
   "attachments": {},
   "cell_type": "markdown",
   "metadata": {},
   "source": [
    "11) Crear un diccionario e imprimir sus claves utilizando un iterador"
   ]
  },
  {
   "cell_type": "code",
   "execution_count": 4,
   "metadata": {},
   "outputs": [
    {
     "name": "stdout",
     "output_type": "stream",
     "text": [
      "dict_keys(['Pais', 'Capitales', 'Poblacion'])\n",
      "Pais\n",
      "Capitales\n",
      "Poblacion\n"
     ]
    }
   ],
   "source": [
    "paises={'Pais':['Venezuela', 'Colombia', 'Ecuador', 'Brasil', 'Perú', 'Chile', 'Bolivia', 'Argentina'], 'Capitales':['Caracas', 'Bogotá', 'Quito', 'Brasilia', 'Lima', 'Santiago', 'La Paz', 'Buenos Aires'], 'Poblacion': [50, 45, 30, 28, 40, 38, 30, 40]}\n",
    "print(paises.keys())\n",
    "for c in paises:\n",
    "    print(c)"
   ]
  },
  {
   "attachments": {},
   "cell_type": "markdown",
   "metadata": {},
   "source": [
    "12) Convertir en una lista la variable \"cadena\" del punto 10 y luego recorrerla con un iterador "
   ]
  },
  {
   "cell_type": "code",
   "execution_count": 6,
   "metadata": {},
   "outputs": [
    {
     "name": "stdout",
     "output_type": "stream",
     "text": [
      "H\n",
      "o\n",
      "l\n",
      "a\n",
      " \n",
      "M\n",
      "U\n",
      "n\n",
      "d\n",
      "o\n",
      "<class 'list'>\n"
     ]
    }
   ],
   "source": [
    "lis_cadena=list(cadena)\n",
    "for e in lis_cadena:\n",
    "    print(e)\n",
    "print(type(lis_cadena))"
   ]
  },
  {
   "attachments": {},
   "cell_type": "markdown",
   "metadata": {},
   "source": [
    "13) Crear dos listas y unirlas en una tupla utilizando la función zip"
   ]
  },
  {
   "cell_type": "code",
   "execution_count": 8,
   "metadata": {},
   "outputs": [
    {
     "name": "stdout",
     "output_type": "stream",
     "text": [
      "<class 'zip'>\n",
      "('Venezuela', 'Caracas')\n",
      "('Colombia', 'Bogotá')\n",
      "('Ecuador', 'Quito')\n",
      "('Perú', 'Lima')\n",
      "('Brasil', 'Brasilia')\n",
      "('Uruguay', 'Montevideo')\n",
      "('Paraguay', 'Asunción')\n",
      "('Chile', 'Santiago')\n",
      "('Argentina', 'Buenos Aires')\n"
     ]
    }
   ],
   "source": [
    "pais = ['Venezuela', 'Colombia', 'Ecuador', 'Perú', 'Brasil', 'Uruguay', 'Paraguay', 'Chile', 'Argentina']\n",
    "capital = ['Caracas', 'Bogotá', 'Quito', 'Lima', 'Brasilia', 'Montevideo', 'Asunción', 'Santiago', 'Buenos Aires']\n",
    "pais_sur=zip(pais, capital)\n",
    "print(type(pais_sur))\n",
    "for e in pais_sur:\n",
    "    print(e)"
   ]
  },
  {
   "attachments": {},
   "cell_type": "markdown",
   "metadata": {},
   "source": [
    "14) A partir de la siguiente lista de números, crear una nueva sólo si el número es divisible por 7<br>\n",
    "lis = [18,21,29,32,35,42,56,60,63,71,84,90,91,100]"
   ]
  },
  {
   "cell_type": "code",
   "execution_count": 12,
   "metadata": {},
   "outputs": [
    {
     "name": "stdout",
     "output_type": "stream",
     "text": [
      "[21, 35, 42, 56, 63, 84, 91]\n",
      "21\n",
      "35\n",
      "42\n",
      "56\n",
      "63\n",
      "84\n",
      "91\n"
     ]
    }
   ],
   "source": [
    "lis = [18,21,29,32,35,42,56,60,63,71,84,90,91,100]\n",
    "new_lis = [e for e in lis if e % 7 == 0]\n",
    "print(new_lis)\n",
    "for e in new_lis:\n",
    "    print(e)"
   ]
  },
  {
   "attachments": {},
   "cell_type": "markdown",
   "metadata": {},
   "source": [
    "15) A partir de la lista de a continuación, contar la cantidad total de elementos que contiene, teniendo en cuenta que un elemento de la lista podría ser otra lista:<br>\n",
    "lis = [[1,2,3,4],'rojo','verde',[True,False,False],['uno','dos','tres']]"
   ]
  },
  {
   "cell_type": "code",
   "execution_count": 16,
   "metadata": {},
   "outputs": [
    {
     "name": "stdout",
     "output_type": "stream",
     "text": [
      "12 es el número de elementos en la lista\n"
     ]
    }
   ],
   "source": [
    "lis = [[1,2,3,4],'rojo','verde',[True,False,False],['uno','dos','tres']]\n",
    "cont = 0\n",
    "for e in lis:\n",
    "    if (type(e) == list):\n",
    "        cont += len(e)\n",
    "    else:\n",
    "        cont += 1\n",
    "print(str(cont) + ' es el número de elementos en la lista')        "
   ]
  },
  {
   "attachments": {},
   "cell_type": "markdown",
   "metadata": {},
   "source": [
    "16) Tomar la lista del punto anterior y convertir cada elemento en una lista si no lo es"
   ]
  },
  {
   "cell_type": "code",
   "execution_count": 20,
   "metadata": {},
   "outputs": [
    {
     "name": "stdout",
     "output_type": "stream",
     "text": [
      "[[1, 2, 3, 4], ['rojo'], ['verde'], [True, False, False], ['uno', 'dos', 'tres']]\n"
     ]
    }
   ],
   "source": [
    "for i, e in enumerate(lis):\n",
    "    if (type(e) != list):\n",
    "        lis[i] = [e]\n",
    "print(lis)\n"
   ]
  }
 ],
 "metadata": {
  "kernelspec": {
   "display_name": "Python 3",
   "language": "python",
   "name": "python3"
  },
  "language_info": {
   "codemirror_mode": {
    "name": "ipython",
    "version": 3
   },
   "file_extension": ".py",
   "mimetype": "text/x-python",
   "name": "python",
   "nbconvert_exporter": "python",
   "pygments_lexer": "ipython3",
   "version": "3.11.4"
  },
  "orig_nbformat": 4
 },
 "nbformat": 4,
 "nbformat_minor": 2
}
