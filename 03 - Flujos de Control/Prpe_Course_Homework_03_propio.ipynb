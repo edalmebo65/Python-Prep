{
 "cells": [
  {
   "attachments": {},
   "cell_type": "markdown",
   "metadata": {},
   "source": [
    "Flujos de Control"
   ]
  },
  {
   "attachments": {},
   "cell_type": "markdown",
   "metadata": {
    "notebookRunGroups": {
     "groupValue": "1"
    }
   },
   "source": [
    "1) Crear una variable que contenga un elemento del conjunto de números enteros y luego imprimir por pantalla si es mayor o menor a cero"
   ]
  },
  {
   "cell_type": "code",
   "execution_count": null,
   "metadata": {},
   "outputs": [],
   "source": [
    "x = 5\n",
    "if x > 0:\n",
    "   print(str(x) + \" es mayor que 0\")\n",
    "elif x < 0:\n",
    "    print(str(x) + \" es menor que 0\")\n",
    "else:\n",
    "    print(str(x) + \" es igual a 0\")\n",
    "    "
   ]
  },
  {
   "attachments": {},
   "cell_type": "markdown",
   "metadata": {},
   "source": [
    "2) Crear dos variables y un condicional que informe si son del mismo tipo de dato"
   ]
  },
  {
   "cell_type": "code",
   "execution_count": null,
   "metadata": {},
   "outputs": [],
   "source": [
    "var1 = str(5)\n",
    "var2 = '5'\n",
    "if type(var1) == type(var2):\n",
    "    print(\"var1 y var2 son del mismo tipo\")\n",
    "else:\n",
    "    print(\"var 1 y var2 no son del mismo tipo\")"
   ]
  },
  {
   "attachments": {},
   "cell_type": "markdown",
   "metadata": {},
   "source": [
    "3) Para los valores enteros del 1 al 20, imprimir por pantalla si es par o impar"
   ]
  },
  {
   "cell_type": "code",
   "execution_count": null,
   "metadata": {},
   "outputs": [],
   "source": [
    "for num in range(1,21):\n",
    "    if num%2 == 0:\n",
    "        print(str(num) + \" es número par\")\n",
    "    else:\n",
    "        print(str(num) + \" es número impar\")\n",
    "        \n"
   ]
  },
  {
   "attachments": {},
   "cell_type": "markdown",
   "metadata": {},
   "source": [
    "4) En un ciclo for mostrar para los valores entre 0 y 5 el resultado de elevarlo a la potencia igual a 3"
   ]
  },
  {
   "cell_type": "code",
   "execution_count": null,
   "metadata": {},
   "outputs": [],
   "source": [
    "for num in range(6):\n",
    "    print(str(num) + \" elevado a la potencia 3 = \" + str(num**3))"
   ]
  },
  {
   "attachments": {},
   "cell_type": "markdown",
   "metadata": {},
   "source": [
    "5) Crear una variable que contenga un número entero y realizar un ciclo for la misma cantidad de ciclos"
   ]
  },
  {
   "cell_type": "code",
   "execution_count": null,
   "metadata": {},
   "outputs": [],
   "source": [
    "num=10\n",
    "print(\"Realizaremos \" + str(num) + \" ciclos\")\n",
    "for i in range(1, num+1):\n",
    "    print(\"ciclo \" + str(i))\n"
   ]
  },
  {
   "attachments": {},
   "cell_type": "markdown",
   "metadata": {},
   "source": [
    "6) Utilizar un ciclo while para realizar el factorial de un número guardado en una variable, sólo si la variable contiene un número entero mayor a 0"
   ]
  },
  {
   "cell_type": "code",
   "execution_count": null,
   "metadata": {},
   "outputs": [],
   "source": [
    "num = 15\n",
    "numFactorial = 1\n",
    "i = num\n",
    "if i > 0:\n",
    "    while i > 1:\n",
    "        numFactorial *=i\n",
    "        i-=1\n",
    "    print(\"El factorial de \" +str(num) + \" es \" + str(numFactorial))\n",
    "else:\n",
    "    print(\"Se debe ingresar un número mayor que 0\")"
   ]
  },
  {
   "attachments": {},
   "cell_type": "markdown",
   "metadata": {},
   "source": [
    "7) Crear un ciclo for dentro de un ciclo while"
   ]
  },
  {
   "cell_type": "code",
   "execution_count": null,
   "metadata": {},
   "outputs": [],
   "source": [
    "# Tablas de multiplicar del 1 al 5\n",
    "tabla = 1\n",
    "while tabla <= 5:\n",
    "    for i in range(1, 11):\n",
    "        print(str(tabla) + \" x \" + str(i) + \" = \" + str(tabla*i))\n",
    "    tabla+=1\n",
    "    print()\n",
    "print(\"He terminado.....\")    \n",
    "        "
   ]
  },
  {
   "attachments": {},
   "cell_type": "markdown",
   "metadata": {},
   "source": [
    "8) Crear un ciclo while dentro de un ciclo for"
   ]
  },
  {
   "cell_type": "code",
   "execution_count": null,
   "metadata": {},
   "outputs": [],
   "source": [
    "# Tablas de multiplicar del 1 al 5\n",
    "j = 1\n",
    "for tabla in range(1, 6):\n",
    "    while j <= 10:\n",
    "        print(str(tabla) + \" x \" + str(j) + \" = \" + str(tabla*j))\n",
    "        j+=1\n",
    "    print()\n",
    "    j = 1\n",
    "print(\"He terminado.....\")   "
   ]
  },
  {
   "attachments": {},
   "cell_type": "markdown",
   "metadata": {},
   "source": [
    "9) Imprimir los números primos existentes entre 0 y 30"
   ]
  },
  {
   "cell_type": "code",
   "execution_count": 52,
   "metadata": {},
   "outputs": [
    {
     "name": "stdout",
     "output_type": "stream",
     "text": [
      "2 es número primo\n",
      "3 es número primo\n",
      "5 es número primo\n",
      "7 es número primo\n",
      "11 es número primo\n",
      "13 es número primo\n",
      "17 es número primo\n",
      "19 es número primo\n",
      "23 es número primo\n",
      "29 es número primo\n",
      "31 es número primo\n",
      "37 es número primo\n",
      "41 es número primo\n",
      "43 es número primo\n",
      "47 es número primo\n",
      "53 es número primo\n",
      "59 es número primo\n",
      "61 es número primo\n",
      "67 es número primo\n",
      "71 es número primo\n",
      "73 es número primo\n",
      "79 es número primo\n",
      "83 es número primo\n",
      "89 es número primo\n",
      "97 es número primo\n",
      "101 es número primo\n",
      "103 es número primo\n",
      "107 es número primo\n",
      "109 es número primo\n",
      "113 es número primo\n",
      "127 es número primo\n",
      "131 es número primo\n",
      "137 es número primo\n",
      "139 es número primo\n",
      "149 es número primo\n",
      "151 es número primo\n",
      "157 es número primo\n",
      "163 es número primo\n",
      "167 es número primo\n",
      "173 es número primo\n",
      "179 es número primo\n",
      "181 es número primo\n",
      "191 es número primo\n",
      "193 es número primo\n",
      "197 es número primo\n",
      "199 es número primo\n",
      "211 es número primo\n",
      "223 es número primo\n",
      "227 es número primo\n",
      "229 es número primo\n",
      "233 es número primo\n",
      "239 es número primo\n",
      "241 es número primo\n",
      "251 es número primo\n",
      "257 es número primo\n",
      "263 es número primo\n",
      "269 es número primo\n",
      "271 es número primo\n",
      "277 es número primo\n",
      "281 es número primo\n",
      "283 es número primo\n",
      "293 es número primo\n"
     ]
    }
   ],
   "source": [
    "\n",
    "## Números primos con límite, considero que el número 1 no es primo, pues tiene solo un divisor.\n",
    "\n",
    "tope = 300\n",
    "for i in range(2, tope + 1):\n",
    "    cont = 0\n",
    "    for j in range(1, i+1):\n",
    "        ciclo += 1\n",
    "        if i % j == 0:\n",
    "            cont += 1\n",
    "    if cont <= 2:\n",
    "        \n",
    "        print(str(i) + \" es número primo\")\n"
   ]
  },
  {
   "attachments": {},
   "cell_type": "markdown",
   "metadata": {},
   "source": [
    "10) ¿Se puede mejorar el proceso del punto 9? Utilizar las sentencias break y/ó continue para tal fin"
   ]
  },
  {
   "cell_type": "code",
   "execution_count": 53,
   "metadata": {},
   "outputs": [
    {
     "name": "stdout",
     "output_type": "stream",
     "text": [
      "2 es número primo\n",
      "3 es número primo\n",
      "5 es número primo\n",
      "7 es número primo\n",
      "11 es número primo\n",
      "13 es número primo\n",
      "17 es número primo\n",
      "19 es número primo\n",
      "23 es número primo\n",
      "29 es número primo\n",
      "31 es número primo\n",
      "37 es número primo\n",
      "41 es número primo\n",
      "43 es número primo\n",
      "47 es número primo\n",
      "53 es número primo\n",
      "59 es número primo\n",
      "61 es número primo\n",
      "67 es número primo\n",
      "71 es número primo\n",
      "73 es número primo\n",
      "79 es número primo\n",
      "83 es número primo\n",
      "89 es número primo\n",
      "97 es número primo\n",
      "101 es número primo\n",
      "103 es número primo\n",
      "107 es número primo\n",
      "109 es número primo\n",
      "113 es número primo\n",
      "127 es número primo\n",
      "131 es número primo\n",
      "137 es número primo\n",
      "139 es número primo\n",
      "149 es número primo\n",
      "151 es número primo\n",
      "157 es número primo\n",
      "163 es número primo\n",
      "167 es número primo\n",
      "173 es número primo\n",
      "179 es número primo\n",
      "181 es número primo\n",
      "191 es número primo\n",
      "193 es número primo\n",
      "197 es número primo\n",
      "199 es número primo\n",
      "211 es número primo\n",
      "223 es número primo\n",
      "227 es número primo\n",
      "229 es número primo\n",
      "233 es número primo\n",
      "239 es número primo\n",
      "241 es número primo\n",
      "251 es número primo\n",
      "257 es número primo\n",
      "263 es número primo\n",
      "269 es número primo\n",
      "271 es número primo\n",
      "277 es número primo\n",
      "281 es número primo\n",
      "283 es número primo\n",
      "293 es número primo\n",
      "13726 ciclos\n"
     ]
    }
   ],
   "source": [
    "tope = 300\n",
    "ciclo1 = 0\n",
    "for i in range(2, tope + 1):\n",
    "    cont = 0\n",
    "    for j in range(1, i+1):\n",
    "        ciclo1 += 1\n",
    "        if i % j == 0:\n",
    "            cont += 1\n",
    "        if cont > 2:\n",
    "            break\n",
    "    if cont <= 2:\n",
    "        \n",
    "        print(str(i) + \" es número primo\")\n",
    "print(str(ciclo1) + \" ciclos\" )\n"
   ]
  },
  {
   "attachments": {},
   "cell_type": "markdown",
   "metadata": {},
   "source": [
    "11) En los puntos 9 y 10, se diseño un código que encuentra números primos y además se lo optimizó. ¿Es posible saber en qué medida se optimizó?"
   ]
  },
  {
   "cell_type": "code",
   "execution_count": 54,
   "metadata": {},
   "outputs": [
    {
     "name": "stdout",
     "output_type": "stream",
     "text": [
      "Proceso sin optimizar: 45613 ciclos\n",
      "Proceso optimizado: 13726 ciclos\n",
      "La optimización corresponde a un 30.09%\n"
     ]
    }
   ],
   "source": [
    "print(\"Proceso sin optimizar: \" + str(ciclo) + \" ciclos\")\n",
    "print(\"Proceso optimizado: \" + str(ciclo1) + \" ciclos\")\n",
    "total = round((ciclo1 * 100)/ciclo, 2)\n",
    "print(\"La optimización corresponde a un \" + str(total) + \"%\" )\n"
   ]
  },
  {
   "attachments": {},
   "cell_type": "markdown",
   "metadata": {},
   "source": [
    "12) Si la cantidad de números que se evalúa es mayor a treinta, esa optimización crece?"
   ]
  },
  {
   "cell_type": "code",
   "execution_count": 55,
   "metadata": {},
   "outputs": [
    {
     "name": "stdout",
     "output_type": "stream",
     "text": [
      "Proceso sin optimizar: 45613 ciclos\n",
      "Proceso optimizado: 13726 ciclos\n",
      "La optimización corresponde a un 30.09%\n"
     ]
    }
   ],
   "source": [
    "print(\"Proceso sin optimizar: \" + str(ciclo) + \" ciclos\")\n",
    "print(\"Proceso optimizado: \" + str(ciclo1) + \" ciclos\")\n",
    "total = round((ciclo1 * 100)/ciclo, 2)\n",
    "print(\"La optimización corresponde a un \" + str(total) + \"%\" )"
   ]
  },
  {
   "attachments": {},
   "cell_type": "markdown",
   "metadata": {},
   "source": [
    "Aumentando la cantidad de números primos a obtener(300), vemos que la optimización disminuye a un 30.09%"
   ]
  },
  {
   "attachments": {},
   "cell_type": "markdown",
   "metadata": {},
   "source": [
    "13) Aplicando continue, armar un ciclo while que solo imprima los valores divisibles por 12, dentro del rango de números de 100 a 300"
   ]
  },
  {
   "cell_type": "code",
   "execution_count": 67,
   "metadata": {},
   "outputs": [
    {
     "name": "stdout",
     "output_type": "stream",
     "text": [
      "108\n",
      "120\n",
      "132\n",
      "144\n",
      "156\n",
      "168\n",
      "180\n",
      "192\n",
      "204\n",
      "216\n",
      "228\n",
      "240\n",
      "252\n",
      "264\n",
      "276\n",
      "288\n",
      "300\n"
     ]
    }
   ],
   "source": [
    "num=99\n",
    "while num>=99 and num<=300:\n",
    "    num += 1\n",
    "    if num % 12 == 0:\n",
    "        print(num)\n",
    "    else:\n",
    "        continue"
   ]
  },
  {
   "attachments": {},
   "cell_type": "markdown",
   "metadata": {},
   "source": [
    "14) Utilizar la función **input()** que permite hacer ingresos por teclado, para encontrar números primos y dar la opción al usario de buscar el siguiente"
   ]
  },
  {
   "cell_type": "code",
   "execution_count": 4,
   "metadata": {},
   "outputs": [
    {
     "name": "stdout",
     "output_type": "stream",
     "text": [
      "29 es número primo\n",
      "173 es número primo\n",
      "Adios\n"
     ]
    }
   ],
   "source": [
    "buscarprimo = True\n",
    "while (buscarprimo):\n",
    "    i = int(input(\"Digite el número del que quiere averiguar si es primo o no\"))\n",
    "    cont = 0\n",
    "    for j in range(1, i+1):\n",
    "        if i % j == 0:\n",
    "            cont += 1\n",
    "        if cont > 2:\n",
    "            break\n",
    "    if cont <= 2:\n",
    "        print(str(i) + \" es número primo\")\n",
    "    else:\n",
    "        print(str(i) + \" no es número primo\")\n",
    "    respuesta = int(input(\"Desea buscar otro número(si(1), no(0))\"))\n",
    "    if respuesta == 0:\n",
    "        buscarprimo = False\n",
    "    else:\n",
    "        buscarprimo = True\n",
    "    \n",
    "print(\"Adios\")"
   ]
  },
  {
   "attachments": {},
   "cell_type": "markdown",
   "metadata": {},
   "source": [
    "15) Crear un ciclo while que encuentre dentro del rango de 100 a 300 el primer número divisible por 3 y además múltiplo de 6"
   ]
  },
  {
   "cell_type": "code",
   "execution_count": 5,
   "metadata": {},
   "outputs": [
    {
     "name": "stdout",
     "output_type": "stream",
     "text": [
      "102\n"
     ]
    }
   ],
   "source": [
    "num=99\n",
    "while num>=99 and num<=300:\n",
    "    num += 1\n",
    "    if num % 3 == 0 and num % 6 == 0:\n",
    "        print(num)\n",
    "        break\n",
    "    else:\n",
    "        continue"
   ]
  }
 ],
 "metadata": {
  "kernelspec": {
   "display_name": "Python 3",
   "language": "python",
   "name": "python3"
  },
  "language_info": {
   "codemirror_mode": {
    "name": "ipython",
    "version": 3
   },
   "file_extension": ".py",
   "mimetype": "text/x-python",
   "name": "python",
   "nbconvert_exporter": "python",
   "pygments_lexer": "ipython3",
   "version": "3.11.4"
  },
  "orig_nbformat": 4
 },
 "nbformat": 4,
 "nbformat_minor": 2
}
